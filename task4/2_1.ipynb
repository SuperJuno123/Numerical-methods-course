{
 "cells": [
  {
   "cell_type": "code",
   "execution_count": 32,
   "metadata": {},
   "outputs": [],
   "source": [
    "from IPython.display import display, Math\n",
    "import numpy as np\n",
    "import math\n",
    "import itertools \n",
    "\n",
    "# TODO: make : if vars > len(standart_var_names) then vars = x_1, x_2 ... x_n\n",
    "standart_var_names = 'xyzpqtuv'\n",
    "file_name = 'task2_1.txt'"
   ]
  },
  {
   "cell_type": "code",
   "execution_count": null,
   "metadata": {},
   "outputs": [],
   "source": []
  },
  {
   "cell_type": "code",
   "execution_count": 43,
   "metadata": {},
   "outputs": [],
   "source": [
    "class Monomial:\n",
    "    \"\"\"Auxiliary class. Used for creating and representation polynomials in fancy way.\n",
    "    Especially useful for input polynomials by hand\"\"\"\n",
    "\n",
    "                           \n",
    "    def __init__(self, coeff, exponents):\n",
    "        self.coefficient = coeff\n",
    "        self.exponents = list(exponents)\n",
    "\n",
    "    def __str__(self):\n",
    "        coef = ''\n",
    "        if np.count_nonzero(np.array(self.exponents)) == 0:\n",
    "            return str(self.coefficient)\n",
    "        elif self.coefficient == -1:\n",
    "            coef = '-'\n",
    "        elif self.coefficient != 1:\n",
    "            coef = str(self.coefficient)\n",
    "        return coef + \\\n",
    "            \"\".join([f'{standart_var_names[i]}{\"^{\" + str(int(self.exponents[i])) + \"}\" if self.exponents[i]!= 1 else \"\"}'\n",
    "                      if self.exponents[i]!=0 else ''\n",
    "                     for i in range(len(self.exponents))])\n",
    "\n",
    "    \n",
    "    \n",
    "    # DEPRECATED . Now all arifmetical operations apply only on Polynomials! \n",
    "    \n",
    "#     def __mul__(self, other):\n",
    "#         exponents = list(np.array(self.exponents) + np.array(other.exponents))\n",
    "#         coefficient = self.coefficient * other.coefficient\n",
    "#         return Monomial(coefficient, exponents)\n",
    "        \n",
    "#     def __truediv__(self, other):\n",
    "#         exponents = list(np.array(self.exponents) - np.array(other.exponents))\n",
    "#         coefficient = self.coefficient / other.coefficient\n",
    "#         return Monomial(coefficient, exponents)\n",
    "\n",
    "#     def __neg__(self):\n",
    "#         return Monomial(-self.coefficient, self.exponents)\n",
    "    \n",
    "#     def __sub__(self, other):\n",
    "#         return self + (-other)\n",
    "\n",
    "#     def __add__(self, other):\n",
    "#         if type(other) is int:\n",
    "#             return Polynomial([self, Monomial(coeff=other, exponents=[0] * len(self))]) if other != 0 else self\n",
    "#         elif self.is_zero():\n",
    "#             return other\n",
    "#         elif other.is_zero():\n",
    "#             return self\n",
    "#         elif self.exponents == other.exponents:\n",
    "#             return Monomial(coeff = self.coefficient + other.coefficient, exponents=self.exponents)\n",
    "#         else:\n",
    "#             return Polynomial([self, other])\n",
    "        \n",
    "    \n",
    "#     def __eq__(self, other):\n",
    "#         return self.exponents == other.exponents and self.coefficient == other.coefficient\n",
    "    \n",
    "    def gcd(self, other):\n",
    "        coefficient = math.gcd(self.coefficient, other.coefficient)\n",
    "        greatest_common_divisor_powers = np.minimum(np.array(self.exponents), np.array(other.exponents))\n",
    "        return Monomial(coefficient, list(greatest_common_divisor_powers))\n",
    "        \n",
    "    def is_const(self):\n",
    "        return np.count_nonzero(np.array(self.exponents)) == 0\n",
    "    \n",
    "    def print(self):\n",
    "         display(Math(str(self)))\n",
    "        \n",
    "    def is_zero(self):\n",
    "        if self.coefficient == 0:\n",
    "            return True\n",
    "        \n"
   ]
  },
  {
   "cell_type": "code",
   "execution_count": 42,
   "metadata": {},
   "outputs": [],
   "source": [
    "class Polynomial:\n",
    "    monomials = []\n",
    "    matrix = np.zeros([])\n",
    "    \n",
    "    def sort_monomials(self):\n",
    "        \"\"\"Sorting monomials in lexicographic order\"\"\"\n",
    "        self.monomials.sort(key = lambda monome : monome.exponents, reverse=True)\n",
    "        return self\n",
    "\n",
    "    def leading_term(self):\n",
    "        return self.monomials[0]\n",
    "    \n",
    "    def __init__(self, monomials = None, matrix = None):\n",
    "        if matrix is None:\n",
    "            if type(monomials) is not list:\n",
    "                monomials = [monomials]\n",
    "            self.monomials = monomials\n",
    "            self.sort_monomials()\n",
    "            matrix_form=[]\n",
    "            for monome in self.monomials:\n",
    "                matrix_form.append([monome.coefficient] + monome.exponents)\n",
    "            self.matrix = np.array(matrix_form)\n",
    "        else:\n",
    "            self.monomials = []            \n",
    "            for row in matrix:\n",
    "                self.monomials.append(Monomial(coeff=row[0], exponents=list(row[1:])))\n",
    "            self.sort_monomials()\n",
    "            self.matrix = matrix\n",
    "        \n",
    "    def print(self):\n",
    "        return display(Math(str(self)))\n",
    "\n",
    "    def __str__(self):\n",
    "        return \"+\".join([str(monomial) for monomial in self.monomials]).replace('+-', '-')\n",
    "    \n",
    "    def __mul__(self, other, verbose = False):\n",
    "        m1 = self.matrix\n",
    "        m2 = other.matrix\n",
    "        \n",
    "        num_monomes1 = m1.shape[0] \n",
    "        num_monomes2 = m2.shape[0]\n",
    "        \n",
    "        n_variables = m1.shape[1] - 1\n",
    "        result = np.zeros(shape=(num_monomes1*num_monomes2, n_variables + 1))\n",
    "        \n",
    "        idx=0\n",
    "        for row1 in m1:\n",
    "            for row2 in m2:\n",
    "                coef1=row1[0]\n",
    "                coef2=row2[0]\n",
    "                exp1=row1[1:]\n",
    "                exp2=row2[1:]\n",
    "                result[idx, 0] = coef1 * coef2\n",
    "                result[idx, 1:] = exp1 + exp2\n",
    "                idx +=1\n",
    "                \n",
    "        if verbose:\n",
    "            print('Multiplying polynomials...')\n",
    "            self.print()\n",
    "            print('and')\n",
    "            other.print()\n",
    "            print(f'First polynome matrix = {m1},\\nSecond polynome matrix = {m2}\\n')\n",
    "            print(f'After multiplication:\\n{result}')\n",
    "        result=self.simplify(result)\n",
    "        if verbose:\n",
    "            print(f'After simplification:\\n{result}')\n",
    "            \n",
    "        return Polynomial(monomials=None, matrix=result)\n",
    "    \n",
    "    def simplify(self, matrix, verbose = True):\n",
    "        coeff=matrix[:,0]\n",
    "        exp = matrix[:,1:]\n",
    "        unique_exp, count = np.unique(exp, axis=0, return_counts=True)\n",
    "        \n",
    "#         if unique_exp.shape[0] == matrix.shape[0]:\n",
    "#             return matrix\n",
    "        \n",
    "        new_matrix = np.vstack((np.zeros(unique_exp.shape[0]), unique_exp.T)).T\n",
    "                \n",
    "        for idx, r_row in enumerate(unique_exp):\n",
    "            mask = np.flatnonzero((exp == r_row).all(axis=1))\n",
    "            new_coef = sum(coeff[mask])\n",
    "            new_matrix[idx, 0] = new_coef\n",
    "            \n",
    "        new_matrix=new_matrix[new_matrix[:,0]!=0]\n",
    "        \n",
    "        if verbose:\n",
    "            print(f'Matrix:\\n{matrix}\\nUnique exponents:\\n{unique_exp},\\nNew matrix:\\n{new_matrix}\\n')\n",
    "\n",
    "            \n",
    "        return new_matrix\n",
    "\n",
    "    \n",
    "    def __truediv__(self, other, verbose=False):\n",
    "        m1 = self.matrix\n",
    "        m2 = other.matrix\n",
    "        \n",
    "        result = np.zeros(shape=(m1.shape[0] * m2.shape[0], m1.shape[1]))\n",
    "        \n",
    "        idx=0\n",
    "        for row1 in m1:\n",
    "            for row2 in m2:\n",
    "                result[idx, 0] = row1[0] / row2[0]\n",
    "                result[idx, 1:] = row1[1:] - row2[1:]\n",
    "                idx +=1\n",
    "                \n",
    "        if verbose:\n",
    "            print('Division of polynomials...')\n",
    "            self.print()\n",
    "            print('and')\n",
    "            other.print()\n",
    "            print(f'First polynome matrix = {m1},\\nSecond polynome matrix = {m2}\\n')\n",
    "            print(f'After multiplication:\\n{result}')\n",
    "        result=self.simplify(result)\n",
    "        if verbose:\n",
    "            print(f'After simplification:\\n{result}')\n",
    "            \n",
    "        return Polynomial(monomials=None, matrix=result)\n",
    "\n",
    "    def __sub__(self, other):\n",
    "        return self + (-other)\n",
    "\n",
    "    def __add__(self, other):\n",
    "        m1 = self.matrix\n",
    "        m2 = other.matrix\n",
    "        result = np.vstack((m1, m2))\n",
    "        return Polynomial(matrix=self.simplify(result))\n",
    "        \n",
    "    def __neg__(self):\n",
    "        matrix = np.array(self.matrix, copy=True)\n",
    "        matrix[:,0] = -matrix[:,0]\n",
    "        return Polynomial(matrix=matrix)\n",
    "\n",
    "    def is_zero(self):\n",
    "        for monom in self.monomials:\n",
    "            if not monom.is_zero():\n",
    "                return False\n",
    "        return True\n",
    "\n",
    "    def is_const(self):\n",
    "        for monom in self.monomials:\n",
    "            if not monom.is_const():\n",
    "                return False\n",
    "        return True\n",
    "    \n",
    "    def reduction(self, basis, verbose=True):\n",
    "        reducible_polynomial = self\n",
    "        sequence_of_reduction = [reducible_polynomial]\n",
    "        \n",
    "#         if type(reducing_poly) is not Polynomial:\n",
    "#             reducing_poly=Polynomial(reducing_poly)\n",
    "        \n",
    "        if reducible_polynomial.is_const():\n",
    "            return reducing_poly\n",
    "        \n",
    "        if verbose:\n",
    "            print(f'Reducing polynomial : {str(reducible_polynomial)} with basis ({\", \".join([str(poly) for poly in basis])})')\n",
    "        \n",
    "#         for poly_from_basis in basis:\n",
    "#             Q = Polynomial(reducible_polynomial.leading_term()) / Polynomial(poly_from_basis.leading_term())\n",
    "            \n",
    "#             if verbose:\n",
    "#                 print(f'Reducing polynomial : {str(reducible_polynomial)} with polynomial from basis {str(poly_from_basis)}')\n",
    "#                 print(f'f_iC : {str(reducible_polynomial.leading_term())}, f_jC : {str(poly_from_basis.leading_term())}, Q = {str(Q)}')\n",
    "            \n",
    "#             if (Q.matrix[:, 1:] >= 0).all(): # If leading term of poly which is been reducing is divided by leading term of poly from basis\n",
    "#                 reducible_polynomial = reducible_polynomial - Q * poly_from_basis\n",
    "#                 # Если поделился - сделать редукцию, а потом сначала поделить на ВСЕ многочлены базиса\n",
    "#                 # проверить чтобы базис был базисом, а не self.poly\n",
    "#                 sequence_of_reduction.append(reducing_poly)\n",
    "#             else:\n",
    "#                 continue\n",
    "                \n",
    "        idx = 0\n",
    "        print(len(basis))\n",
    "        while idx < len(basis):\n",
    "            print(f'idx = {idx}')\n",
    "            reducible_polynomial.print()\n",
    "            basis[idx].print()\n",
    "            Q = Polynomial(reducible_polynomial.leading_term()) / Polynomial(basis[idx].leading_term())\n",
    "            if (Q.matrix[:, 1:] >= 0).all(): # If leading term of poly which is been reducing is divided by leading term of poly from basis\n",
    "                reducible_polynomial = reducible_polynomial - Q * basis[idx]\n",
    "                print('reduced poly : ')\n",
    "                reducible_polynomial.print()\n",
    "                sequence_of_reduction.append(reducible_polynomial)\n",
    "                idx = 0\n",
    "            idx += 1\n",
    "        \n",
    "        if verbose:\n",
    "            print('Sequence of reductions of polynomial:')\n",
    "            display(Math(\" \\Rightarrow \".join([str(poly) for poly in sequence_of_reduction])))\n",
    "                \n",
    "        return sequence_of_reduction[-1]"
   ]
  },
  {
   "cell_type": "code",
   "execution_count": 44,
   "metadata": {},
   "outputs": [
    {
     "data": {
      "text/latex": [
       "$\\displaystyle x^{2}y^{4}z+1$"
      ],
      "text/plain": [
       "<IPython.core.display.Math object>"
      ]
     },
     "metadata": {},
     "output_type": "display_data"
    },
    {
     "name": "stdout",
     "output_type": "stream",
     "text": [
      "Matrix:\n",
      "[[1 2 4 1]\n",
      " [1 0 0 0]]\n",
      "Unique exponents:\n",
      "[[0 0 0]\n",
      " [2 4 1]],\n",
      "New matrix:\n",
      "[[1. 0. 0. 0.]\n",
      " [1. 2. 4. 1.]]\n",
      "\n"
     ]
    },
    {
     "data": {
      "text/latex": [
       "$\\displaystyle x^{2}y^{4}z+1.0$"
      ],
      "text/plain": [
       "<IPython.core.display.Math object>"
      ]
     },
     "metadata": {},
     "output_type": "display_data"
    },
    {
     "data": {
      "text/plain": [
       "'x^{2}y^{4}z+1.0'"
      ]
     },
     "execution_count": 44,
     "metadata": {},
     "output_type": "execute_result"
    }
   ],
   "source": [
    "poly = Polynomial([Monomial(1, [0, 0, 0]), Monomial(1, [2, 4, 1])])\n",
    "poly.print()\n",
    "simplified = Polynomial(matrix=poly.simplify(poly.matrix))\n",
    "simplified.print()\n",
    "str(simplified)"
   ]
  },
  {
   "cell_type": "code",
   "execution_count": 45,
   "metadata": {},
   "outputs": [
    {
     "data": {
      "text/latex": [
       "$\\displaystyle x^{2}yz+2y$"
      ],
      "text/plain": [
       "<IPython.core.display.Math object>"
      ]
     },
     "metadata": {},
     "output_type": "display_data"
    },
    {
     "data": {
      "text/latex": [
       "$\\displaystyle x^{2}yz+2y$"
      ],
      "text/plain": [
       "<IPython.core.display.Math object>"
      ]
     },
     "metadata": {},
     "output_type": "display_data"
    },
    {
     "name": "stdout",
     "output_type": "stream",
     "text": [
      "Matrix:\n",
      "[[ 1.   0.   0.   0. ]\n",
      " [ 0.5  2.   0.   1. ]\n",
      " [ 2.  -2.   0.  -1. ]\n",
      " [ 1.   0.   0.   0. ]]\n",
      "Unique exponents:\n",
      "[[-2.  0. -1.]\n",
      " [ 0.  0.  0.]\n",
      " [ 2.  0.  1.]],\n",
      "New matrix:\n",
      "[[ 2.  -2.   0.  -1. ]\n",
      " [ 2.   0.   0.   0. ]\n",
      " [ 0.5  2.   0.   1. ]]\n",
      "\n"
     ]
    },
    {
     "data": {
      "text/latex": [
       "$\\displaystyle 0.5x^{2}z+2.0+2.0x^{-2}z^{-1}$"
      ],
      "text/plain": [
       "<IPython.core.display.Math object>"
      ]
     },
     "metadata": {},
     "output_type": "display_data"
    }
   ],
   "source": [
    "poly1 = Polynomial([Monomial(1, [2, 1, 1]), Monomial(2, [0, 1, 0])])\n",
    "poly2 = Polynomial([Monomial(1, [2, 1, 1]), Monomial(2, [0, 1, 0])])\n",
    "poly1.print()\n",
    "poly2.print()\n",
    "(poly1/poly2).print()"
   ]
  },
  {
   "cell_type": "code",
   "execution_count": null,
   "metadata": {},
   "outputs": [],
   "source": []
  },
  {
   "cell_type": "code",
   "execution_count": null,
   "metadata": {},
   "outputs": [],
   "source": [
    "poly1 = Polynomial([Monomial(3, [2, 1, 1]), Monomial(2, [0, 1, 0])])\n",
    "poly2 = Polynomial([Monomial(2, [0, 1, 1]), Monomial(1, [1, 0, 0])])\n",
    "poly3 = Polynomial([Monomial(3, [0, 1, 1])])\n",
    "poly1.print()\n",
    "poly2.print()\n",
    "poly3.print()\n",
    "\n",
    "poly3.reduction([poly1, poly2])\n",
    "\n"
   ]
  },
  {
   "cell_type": "code",
   "execution_count": null,
   "metadata": {},
   "outputs": [],
   "source": [
    "def parse_file(file_path):\n",
    "    f = open(file_path)\n",
    "    m_equations, n_variables = [int(x) for x in f.readline().split()]\n",
    "    polynomes = []\n",
    "    for i in range(m_equations):\n",
    "        cur_line = f.readline().split()\n",
    "        num_of_monomes = int(cur_line[0])\n",
    "        monomes = []\n",
    "        for j in range(num_of_monomes):\n",
    "            shift = n_variables + 1\n",
    "            cur_substr = cur_line[1 + j*shift:1 + j*shift + shift]\n",
    "            monomes.append(Monomial(coeff=int(cur_substr[0]), exponents=[int(x) for x in cur_substr[1:]]))\n",
    "        polynomes.append(Polynomial(monomials=monomes))\n",
    "    SAU = SystemOfEquations(polynomes)\n",
    "    display(Math(str(SAU)))\n",
    "    return SAU\n",
    "    \n"
   ]
  },
  {
   "cell_type": "code",
   "execution_count": 36,
   "metadata": {},
   "outputs": [
    {
     "data": {
      "text/latex": [
       "$\\displaystyle x^{23}y^{4}+0xyz$"
      ],
      "text/plain": [
       "<IPython.core.display.Math object>"
      ]
     },
     "metadata": {},
     "output_type": "display_data"
    },
    {
     "name": "stdout",
     "output_type": "stream",
     "text": [
      "Matrix:\n",
      "[[ 1 23  4  0]\n",
      " [ 0  1  1  1]]\n",
      "Unique exponents:\n",
      "[[ 1  1  1]\n",
      " [23  4  0]],\n",
      "New matrix:\n",
      "[[ 1. 23.  4.  0.]]\n",
      "\n"
     ]
    },
    {
     "data": {
      "text/latex": [
       "$\\displaystyle x^{23.0}y^{4.0}$"
      ],
      "text/plain": [
       "<IPython.core.display.Math object>"
      ]
     },
     "metadata": {},
     "output_type": "display_data"
    },
    {
     "data": {
      "text/latex": [
       "$\\displaystyle 2xyz+3xyz$"
      ],
      "text/plain": [
       "<IPython.core.display.Math object>"
      ]
     },
     "metadata": {},
     "output_type": "display_data"
    },
    {
     "name": "stdout",
     "output_type": "stream",
     "text": [
      "Matrix:\n",
      "[[2 1 1 1]\n",
      " [3 1 1 1]]\n",
      "Unique exponents:\n",
      "[[1 1 1]],\n",
      "New matrix:\n",
      "[[5. 1. 1. 1.]]\n",
      "\n"
     ]
    },
    {
     "data": {
      "text/latex": [
       "$\\displaystyle 5.0xyz$"
      ],
      "text/plain": [
       "<IPython.core.display.Math object>"
      ]
     },
     "metadata": {},
     "output_type": "display_data"
    }
   ],
   "source": [
    "# Demonstration of simplification\n",
    "\n",
    "bad_poly = Polynomial([Monomial(0, [1, 1, 1]), Monomial(1, [23, 4, 0])])\n",
    "bad_poly.print()\n",
    "Polynomial(matrix=bad_poly.simplify(bad_poly.matrix)).print()\n",
    "\n",
    "bad_poly2 = Polynomial([Monomial(2, [1, 1, 1]), Monomial(3, [1, 1, 1])])\n",
    "bad_poly2.print()\n",
    "Polynomial(matrix=bad_poly.simplify(bad_poly2.matrix)).print()"
   ]
  },
  {
   "cell_type": "code",
   "execution_count": null,
   "metadata": {},
   "outputs": [],
   "source": [
    "# Demonstation of arithmetical operations on polynomials\n",
    "\n",
    "poly1 = Polynomial([Monomial(3, [2, 1, 1]), Monomial(2, [0, 1, 0])])\n",
    "poly2 = Polynomial([Monomial(2, [2, 1, 1]), Monomial(1, [1, 0, 0])])\n",
    "poly1.print()\n",
    "poly2.print()\n",
    "(poly1+poly2).print()\n",
    "(poly1-poly2).print()\n",
    "(poly1*poly2).print()\n",
    "(poly1/poly2).print()\n",
    "gcd = Polynomial([poly1.monomials[0].gcd(poly2.monomials[0])])\n",
    "print('GCD of leading terms of poly1 and poly2 :')\n",
    "gcd.print()\n",
    "(poly1/gcd).print()\n",
    "(poly2/gcd).print()"
   ]
  },
  {
   "cell_type": "code",
   "execution_count": null,
   "metadata": {},
   "outputs": [],
   "source": [
    "# Demonstation of arithmetical operations on polynomials\n",
    "\n",
    "poly1 = Polynomial([Monomial(3, [2, 1, 1]), Monomial(2, [0, 1, 0])])\n",
    "poly2 = Polynomial([Monomial(2, [1, 1, 1]), Monomial(1, [1, 0, 0])])\n",
    "poly1.print()\n",
    "poly2.print()\n",
    "(poly1*poly2).print()\n",
    "gcd = poly1.monomials[0].gcd(poly2.monomials[0])\n",
    "gcd.print()\n",
    "(poly1/Polynomial([gcd])).print()"
   ]
  },
  {
   "cell_type": "code",
   "execution_count": null,
   "metadata": {},
   "outputs": [],
   "source": [
    "# Demonstation of arithmetical operations on polynomials\n",
    "\n",
    "poly1 = Polynomial([Monomial(3, [2, 1, 1]), Monomial(2, [0, 1, 0])])\n",
    "poly2 = Polynomial([Monomial(-1, [1, 0, 0]), Monomial(1, [1, 4, 0])])\n",
    "poly1.print()\n",
    "poly2.print()\n",
    "(poly1*poly2).print()\n",
    "(-poly1).print()\n",
    "(poly1/poly2).print()"
   ]
  },
  {
   "cell_type": "code",
   "execution_count": null,
   "metadata": {},
   "outputs": [],
   "source": [
    "# Demonstation of sorting monomials in lexicographic order (Note: by default sorting is applied automatically when you\n",
    "# create new instance of Polynomial class. If you want to see difference, you are supposed to comment corresponding line \n",
    "# in constructor of Polynomial class).\n",
    "\n",
    "examplePolynome2 = Polynomial([Monomial(1, [0, 2, 3]), Monomial(1, [1, 0, 0]), Monomial(1, [0, 1, 3]), Monomial(1, [1, 1, 1]),\n",
    "                              Monomial(1, [1, 2, 4]), Monomial(1, [3, 0, 0])])\n",
    "\n",
    "display(Math(str(examplePolynome)))\n",
    "display(Math(str(examplePolynome.sort_monomials())))\n",
    "\n",
    "display(Math(str(examplePolynome2)))\n",
    "display(Math(str(examplePolynome2.sort_monomials())))\n",
    "\n"
   ]
  },
  {
   "cell_type": "code",
   "execution_count": null,
   "metadata": {},
   "outputs": [],
   "source": []
  },
  {
   "cell_type": "code",
   "execution_count": null,
   "metadata": {},
   "outputs": [],
   "source": []
  },
  {
   "cell_type": "code",
   "execution_count": null,
   "metadata": {},
   "outputs": [],
   "source": []
  },
  {
   "cell_type": "code",
   "execution_count": null,
   "metadata": {},
   "outputs": [],
   "source": [
    "class SystemOfEquations:\n",
    "    poly = []\n",
    "\n",
    "    def __init__(self, polynomials):\n",
    "        self.poly = polynomials\n",
    "        self.sort_polynomes()\n",
    "        \n",
    "    def __str__(self):\n",
    "        return '(' + \", \".join([str(polynome) for polynome in self.poly]) + ')'\n",
    "        \n",
    "    def print(self):\n",
    "        display(Math(str(self)))\n",
    "    \n",
    "    def sort_polynomes(self):\n",
    "        self.poly.sort(key = lambda polynome : polynome.monomials[0].exponents, reverse=True)\n",
    "        return self\n",
    "    \n",
    "    def monomial_reduction(self, reduced_monomial, reducing_polynomial, verbose=True):\n",
    "        Q = Polynomial(reduced_monomial) / Polynomial(reducing_polynomial.leading_term())\n",
    "        \n",
    "        if (Q.matrix[:, 1:] >= 0).all(): # If reducing poly divided by \n",
    "                reducing_poly = Polynomial(reduced_monomial) - Q * reducing_polynomial    \n",
    "                \n",
    "        if len(reducing_poly.monomials) > 1:\n",
    "            raise ValueError(\"Sorry, result is not monomial\")\n",
    "        else:\n",
    "            return Monomial(coeff=reducing_poly.monomials[0].coefficient, exponents=reducing_poly.monomials[0].exponents)\n",
    "    \n",
    "    # TODO: Перенести редукцию полиномов и мономов в класс полиномов \n",
    "    def polynomial_reduction(self, reducible_polynomial, basis, verbose=True):\n",
    "        sequence_of_reduction = [reducible_polynomial]\n",
    "        \n",
    "#         if type(reducing_poly) is not Polynomial:\n",
    "#             reducing_poly=Polynomial(reducing_poly)\n",
    "        \n",
    "        if reducible_polynomial.is_const():\n",
    "            return reducing_poly\n",
    "        \n",
    "        if verbose:\n",
    "            print(f'Reducing polynomial : {str(reducible_polynomial)} with basis {str(basis)}')\n",
    "        \n",
    "#         for poly_from_basis in basis:\n",
    "#             Q = Polynomial(reducible_polynomial.leading_term()) / Polynomial(poly_from_basis.leading_term())\n",
    "            \n",
    "#             if verbose:\n",
    "#                 print(f'Reducing polynomial : {str(reducible_polynomial)} with polynomial from basis {str(poly_from_basis)}')\n",
    "#                 print(f'f_iC : {str(reducible_polynomial.leading_term())}, f_jC : {str(poly_from_basis.leading_term())}, Q = {str(Q)}')\n",
    "            \n",
    "#             if (Q.matrix[:, 1:] >= 0).all(): # If leading term of poly which is been reducing is divided by leading term of poly from basis\n",
    "#                 reducible_polynomial = reducible_polynomial - Q * poly_from_basis\n",
    "#                 # Если поделился - сделать редукцию, а потом сначала поделить на ВСЕ многочлены базиса\n",
    "#                 # проверить чтобы базис был базисом, а не self.poly\n",
    "#                 sequence_of_reduction.append(reducing_poly)\n",
    "#             else:\n",
    "#                 continue\n",
    "                \n",
    "            idx = 0\n",
    "            while idx < len(basis):\n",
    "                Q = Polynomial(reducible_polynomial.leading_term()) / Polynomial(basis[idx].leading_term())\n",
    "                if (Q.matrix[:, 1:] >= 0).all(): # If leading term of poly which is been reducing is divided by leading term of poly from basis\n",
    "                    reducible_polynomial = reducible_polynomial - Q * basis[idx]\n",
    "                    sequence_of_reduction.append(reducible_polynomial)\n",
    "                    idx = 0\n",
    "                idx += 1\n",
    "        \n",
    "        if verbose:\n",
    "            print('Sequence of reductions of polynomial:')\n",
    "            display(Math(\" \\Rightarrow \".join([str(poly) for poly in sequence_of_reduction])))\n",
    "                \n",
    "        return sequence_of_reduction[-1]\n",
    "                \n",
    "    \n",
    "    def Gröbner_basis(self, verbose = True):\n",
    "        \"\"\"Using Buchberger's algorithm\"\"\"\n",
    "                \n",
    "        if len(self.poly) == 1:\n",
    "            return self.poly\n",
    "        elif len(self.poly) == 0:\n",
    "            raise ValueError(\"Current system of equations is empty\")\n",
    "            \n",
    "        gröbner = self.poly.copy()\n",
    "\n",
    "        possible_pairs_of_polynomes = list(itertools.combinations(gröbner, 2))\n",
    "        message = rf'\\text{{Find Gröbner basis of {str(self)} using Buchberger algorithm}} \\\\ '\n",
    "        for poly1, poly2 in possible_pairs_of_polynomes:\n",
    "            message += rf' \\text{{Checking polynomes }} {str(poly1)} \\text{{ and }} {str(poly2)}'\n",
    "            ld_monom1 = poly1.leading_term()\n",
    "            ld_monom2 = poly2.leading_term()\n",
    "            gcd = ld_monom1.gcd(ld_monom2)\n",
    "            if gcd.is_const():\n",
    "                message += rf'\\text{{, no link found}}'\n",
    "            else :\n",
    "                w = Polynomial([gcd])\n",
    "                q1 = Polynomial([ld_monom1]) / w\n",
    "                q2 = Polynomial([ld_monom2]) / w\n",
    "                F_ij = poly1 * q2 - poly2 * q1\n",
    "                result = self.polynomial_reduction(F_ij, gröbner)\n",
    "                message += rf'\\text{{, link found. Their leading terms is divided by }} {w}. \\\\ \\text{{Therefore, }} f_{{iC}}= '\n",
    "                message += rf'wq_1 \\text{{ in our case is }} {str(ld_monom1)} = {str(w)}\\cdot {str(q1)} '\n",
    "                message += rf'\\text{{ and }} f_{{jC}} = wq_2 \\text{{ in our case is }} {str(ld_monom2)} = {str(w)}\\cdot {str(q2)} \\\\ '\n",
    "                message += rf'F_ij = f_i \\cdot q_2 - f_j \\cdot q_1 = ({str(poly1)}) \\cdot ({str(q2)}) - ({str(poly2)}) \\cdot ({str(q1)}) = {str(F_ij)} \\\\ '\n",
    "                if result.is_zero() or result == 0:\n",
    "                    message += rf'F_ij \\text{{ reduced to }} {str(result)} \\text{{. Nothing is added to basis}}'\n",
    "                else:\n",
    "                    possible_pairs_of_polynomes += [(result, poly_from_basis) for poly_from_basis in gröbner if poly_from_basis!=poly1 and poly_from_basis!=poly2]                    \n",
    "                    gröbner.append(result)\n",
    "                    message += rf'F_ij \\text{{ reduced to }} {str(result)} \\text{{ which is non-zero polynomial. It is added to basis. }}'                    \n",
    "                    message += rf'\\text{{ New basis: }} {str(SystemOfEquations(gröbner))} '\n",
    "            message += rf'\\\\'\n",
    "        message += rf'\\text{{Result : Gröbner basis : }} {str(SystemOfEquations(gröbner))}'\n",
    "        if verbose:\n",
    "            display(Math(message))\n",
    "        return SystemOfEquations(gröbner)\n",
    "                       \n",
    "    def reduced_Gröbner_basis(self, verbose=True):\n",
    "        \"\"\"Creating reduced Gröbner basis of initial basis using reduction algorithm\"\"\"\n",
    "                \n",
    "        def delete_multiple_element(list_object, indices):\n",
    "            \"\"\"Auxiliary function for deleting elements from list using list of indices (changes original list)\n",
    "            :param list list_object : \n",
    "            :param list indices : \n",
    "            :return None\n",
    "            \"\"\"\n",
    "            indices = sorted(indices, reverse=True)\n",
    "            for idx in indices:\n",
    "                if idx < len(list_object):\n",
    "                    list_object.pop(idx)\n",
    "        \n",
    "        new_basis = self.Gröbner_basis(verbose=False).poly\n",
    "        \n",
    "        message = rf'\\text{{Finding reduced Gröbner basis of }} {self}'\n",
    "\n",
    "        \n",
    "        # Minimization\n",
    "        minimizing_indexes =[]\n",
    "        for idx1 in range(len(new_basis)):\n",
    "            flag_del_idx = False\n",
    "            for idx2 in range(idx1 + 1, len(new_basis)):\n",
    "                poly1 = new_basis[idx1]\n",
    "                poly2 = new_basis[idx2]\n",
    "                Q = Polynomial(poly1.leading_term()) / Polynomial(poly2.leading_term())\n",
    "                if (Q.matrix[:, 1:] >= 0).all(): # If poly1 divided by poly2\n",
    "                    flag_del_idx = True\n",
    "            if flag_del_idx:\n",
    "                minimizing_indexes.append(idx1)\n",
    "                \n",
    "        print(f'min_ind { minimizing_indexes}')\n",
    "        \n",
    "        delete_multiple_element(new_basis, minimizing_indexes)\n",
    "        \n",
    "        #Reduction of non-leading terms\n",
    "        \n",
    "        possible_pairs_of_polynomes = list(itertools.combinations(new_basis, 2))\n",
    "        for poly1, poly2 in possible_pairs_of_polynomes:\n",
    "            f_jC = Polynomial(poly2.leading_term())\n",
    "            for monomial in poly1.monomials:\n",
    "                Q = Polynomial(monomial) / f_jC\n",
    "                if (Q.matrix[:, 1:] >= 0).all(): # If monomial divided by f_jC\n",
    "                    # Found term of poly1 which is divided by leading term of poly2 \n",
    "                    reduced_poly = self.monomial_reduction(monomial, poly2)\n",
    "                    new_monomials = poly1.monomials.copy()\n",
    "                    new_monomials[new_monomials.index(monomial)] = reduced_poly\n",
    "                    new_poly1 = Polynomial(new_monomials)\n",
    "                    new_basis[new_basis.index(poly1)] = new_poly1\n",
    "        \n",
    "        display(Math(rf'\\text{{Reduced Gröbner basis : }} {str(SystemOfEquations(new_basis))}'))\n",
    "        \n",
    "        return SystemOfEquations(new_basis)\n",
    "    \n",
    "    def reduced_Gröbner_basis_built_in_func(self, auto_check = False):\n",
    "        import wolframalpha\n",
    "        query = (f'grobner basis {{{str(self)[1:-1]}}}')\n",
    "        app_id = '3A76Y9-6PX7PH59P2'\n",
    "        client = wolframalpha.Client(app_id)\n",
    "        res = client.query(query)\n",
    "        answer = next(res.results).text\n",
    "        print('Reduced Gröbner basis computed by Wolfram Alpha:')\n",
    "        display(Math(answer))\n",
    "        if auto_check:\n",
    "            print('Reduced Gröbner basis computed by my algorithm')\n",
    "            display(Math(reduced_Gröbner_basis(self)))"
   ]
  },
  {
   "cell_type": "code",
   "execution_count": null,
   "metadata": {},
   "outputs": [],
   "source": [
    "SAU_from_KR = SystemOfEquations([Polynomial([Monomial(1, [1, 1]), Monomial(1, [1, 0]), Monomial(-1, [0, 1])]), \n",
    "                                Polynomial([Monomial(1, [0, 1]), Monomial(1, [0, 0])])])\n",
    "SAU_from_KR.print()\n",
    "\n",
    "poly1 = SAU_from_KR.poly[0]\n",
    "\n",
    "poly1.print()\n",
    "\n",
    "SAU_from_KR.redu"
   ]
  },
  {
   "cell_type": "code",
   "execution_count": null,
   "metadata": {},
   "outputs": [],
   "source": [
    "# Demonstation diffent operations on SAU and polynomials\n",
    "\n",
    "SAU_from_KR = SystemOfEquations([Polynomial([Monomial(1, [1, 1]), Monomial(1, [1, 0]), Monomial(-1, [0, 1])]), \n",
    "                                Polynomial([Monomial(1, [0, 1]), Monomial(1, [0, 0])])])\n",
    "\n",
    "SAU_from_KR.print()\n",
    "\n",
    "poly1=SAU_from_KR.poly[0]\n",
    "poly2=SAU_from_KR.poly[1]\n",
    "\n",
    "poly1.print()\n",
    "poly2.print()\n",
    "(poly1+poly2).print()\n",
    "(poly1-poly2).print()\n",
    "(poly1*poly2).print()\n",
    "(poly1/poly2).print()\n",
    "\n",
    "ld_monom1 = poly1.leading_term()\n",
    "ld_monom2 = poly2.leading_term()\n",
    "gcd = ld_monom1.gcd(ld_monom2)\n",
    "\n",
    "gcd.print()\n",
    "w = Polynomial(gcd)\n",
    "q1 = Polynomial(ld_monom1) / w\n",
    "q2 = Polynomial(ld_monom2) / w\n",
    "(poly1 * q2).print()\n",
    "(poly2 * q1).print()\n",
    "F_ij = poly1 * q2 - poly2 * q1\n",
    "F_ij.print()"
   ]
  },
  {
   "cell_type": "code",
   "execution_count": null,
   "metadata": {
    "scrolled": true
   },
   "outputs": [],
   "source": [
    "# = SAU_from_KR.Gröbner_basis()\n",
    "#.print()\n",
    "SAU_from_KR.print()\n",
    "SAU_from_KR.reduced_Gröbner_basis()\n",
    "#.print()\n",
    "#.poly[0].print()\n",
    "SAU_from_KR.reduced_Gröbner_basis_built_in_func()\n"
   ]
  },
  {
   "cell_type": "code",
   "execution_count": null,
   "metadata": {
    "scrolled": false
   },
   "outputs": [],
   "source": [
    "SAU_from_file = parse_file(file_name)\n",
    "\n",
    "SAU_from_file.Gröbner_basis()\n",
    "\n",
    "SAU_from_file.reduced_Gröbner_basis()\n",
    "\n",
    "SAU_from_file.reduced_Gröbner_basis_built_in_func()\n"
   ]
  },
  {
   "cell_type": "code",
   "execution_count": null,
   "metadata": {},
   "outputs": [],
   "source": []
  },
  {
   "cell_type": "markdown",
   "metadata": {},
   "source": [
    "Доп.тест: \n",
    "\n",
    "Система многочлены cyclic\n",
    "\n",
    "f1 = a + b + c + d\n",
    "f2 = ab + ad + bc + cd\n",
    "f3 = abc + abd + acd + bcd\n",
    "f4 = abcd - 1"
   ]
  },
  {
   "cell_type": "code",
   "execution_count": null,
   "metadata": {},
   "outputs": [],
   "source": []
  },
  {
   "cell_type": "code",
   "execution_count": null,
   "metadata": {},
   "outputs": [],
   "source": []
  },
  {
   "cell_type": "code",
   "execution_count": null,
   "metadata": {},
   "outputs": [],
   "source": []
  },
  {
   "cell_type": "code",
   "execution_count": null,
   "metadata": {},
   "outputs": [],
   "source": [
    "SAU_2 = SystemOfEquations([Polynomial([Monomial(14, [0, 2, 3]), Monomial(1, [1, 0, 0])]), \n",
    "                            Polynomial([Monomial(1, [30, 3, 3]), Monomial(1, [0, 1, 1])]),\n",
    "                              Polynomial([Monomial(3, [1, 4, 2]), Monomial(1, [3, 0, 0])])])\n",
    "display(Math(str(SAU_2)))\n",
    "display(Math(str(SAU_2.sort_polynomes())))\n"
   ]
  },
  {
   "cell_type": "code",
   "execution_count": null,
   "metadata": {},
   "outputs": [],
   "source": [
    "# DEPRECATED . Now all arifmetical operations apply only on Polynomials! \n",
    "\n",
    "m1 = Monomial(1, [1, 2, 3])\n",
    "m2 = Monomial(1, [1, 0, 1])\n",
    "display(Math(str(m1)))\n",
    "display(Math(str(m2)))\n",
    "display(Math(str(m1 / m2)))\n",
    "display(Math(str(m2 / m1)))\n",
    "display(Math(str(m1 * m2)))\n",
    "display(Math(str(m1 + m2)))\n",
    "display(Math(str(m1 - m2)))\n",
    "\n",
    "(m1+m2-m1).print()\n",
    "\n",
    "display(Math(str((m1+m2-m1).leading_term())))\n",
    "p = Polynomial([m1, m2])\n",
    "\n",
    "display(Math(str(p.leading_term())))"
   ]
  },
  {
   "cell_type": "code",
   "execution_count": null,
   "metadata": {},
   "outputs": [],
   "source": [
    "exampleMonome1 = Monomial(coeff=5, exponents=[1, 2, 0, 4])\n",
    "exampleMonome2 = Monomial(coeff=1, exponents=[0, 5, 2, 0])\n",
    "print(exampleMonome1)\n",
    "examplePolynome = Polynomial([exampleMonome1, exampleMonome2])\n",
    "examplePolynome2 = Polynomial([Monomial(-7, [1, 0, 2, 9]), Monomial(-5, [1, 2, 3])])\n",
    "example_SAU = SystemOfEquations([examplePolynome, examplePolynome2])"
   ]
  },
  {
   "cell_type": "code",
   "execution_count": null,
   "metadata": {},
   "outputs": [],
   "source": [
    "display(Math(str(examplePolynome.sort_monomes())))"
   ]
  },
  {
   "cell_type": "code",
   "execution_count": null,
   "metadata": {},
   "outputs": [],
   "source": [
    "display(Math(str(exampleMonome1)))\n",
    "print(str(examplePolynome))\n",
    "display(Math(str(examplePolynome)))\n",
    "display(Math(str(example_SAU)))\n"
   ]
  },
  {
   "cell_type": "code",
   "execution_count": null,
   "metadata": {},
   "outputs": [],
   "source": []
  },
  {
   "cell_type": "code",
   "execution_count": null,
   "metadata": {},
   "outputs": [],
   "source": []
  },
  {
   "cell_type": "code",
   "execution_count": null,
   "metadata": {},
   "outputs": [],
   "source": []
  },
  {
   "cell_type": "code",
   "execution_count": null,
   "metadata": {},
   "outputs": [],
   "source": []
  }
 ],
 "metadata": {
  "kernelspec": {
   "display_name": "Python 3",
   "language": "python",
   "name": "python3"
  },
  "language_info": {
   "codemirror_mode": {
    "name": "ipython",
    "version": 3
   },
   "file_extension": ".py",
   "mimetype": "text/x-python",
   "name": "python",
   "nbconvert_exporter": "python",
   "pygments_lexer": "ipython3",
   "version": "3.8.3"
  }
 },
 "nbformat": 4,
 "nbformat_minor": 4
}
